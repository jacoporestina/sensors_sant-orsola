{
 "cells": [
  {
   "cell_type": "markdown",
   "id": "6aefc842",
   "metadata": {},
   "source": [
    "# Sensor Data Analysis and Plotting\n",
    "This notebook contains code for loading sensor data, processing it, and generating various plots for analysis."
   ]
  },
  {
   "cell_type": "markdown",
   "id": "35a50a9e",
   "metadata": {},
   "source": [
    "## Import Required Libraries\n",
    "The following cell imports the necessary libraries for data manipulation and visualization."
   ]
  },
  {
   "cell_type": "code",
   "execution_count": 166,
   "id": "259480cd",
   "metadata": {},
   "outputs": [],
   "source": [
    "import pandas as pd\n",
    "import matplotlib.pyplot as plt\n",
    "import matplotlib.dates as mdates\n",
    "import os"
   ]
  },
  {
   "cell_type": "markdown",
   "id": "3392db76",
   "metadata": {},
   "source": [
    "## Load Datasets\n",
    "The following cell defines a function to load datasets with proper date parsing and loads the required datasets."
   ]
  },
  {
   "cell_type": "code",
   "execution_count": 167,
   "id": "bd2d0dd5",
   "metadata": {},
   "outputs": [],
   "source": [
    "def load_data(file_path):\n",
    "    df = pd.read_csv(file_path, parse_dates=['receivedAt'])\n",
    "    df['receivedAt'] = pd.to_datetime(df['receivedAt'])\n",
    "    df.set_index('receivedAt', inplace=True)\n",
    "    df.index = df.index.tz_localize(None) if df.index.tz is not None else df.index\n",
    "    return df\n",
    "\n",
    "control_daily = load_data('mean_std_data/combined_termoigrometro_PAR_control_daily_mean_std.csv')\n",
    "shaded_daily = load_data('mean_std_data/combined_termoigrometro_PAR_shaded_daily_mean_std.csv')\n",
    "control_hourly = load_data('mean_std_data/combined_termoigrometro_PAR_control_hourly_mean_std.csv')\n",
    "shaded_hourly = load_data('mean_std_data/combined_termoigrometro_PAR_shaded_hourly_mean_std.csv')"
   ]
  },
  {
   "cell_type": "markdown",
   "id": "a039ba4c",
   "metadata": {},
   "source": [
    "## Define Variables to Plot\n",
    "The following cell defines the variables that will be used for plotting."
   ]
  },
  {
   "cell_type": "code",
   "execution_count": 168,
   "id": "55a6ab82",
   "metadata": {},
   "outputs": [],
   "source": [
    "variables = ['temperature', 'temperature_daytime', 'temperature_nighttime', 'humidity', 'vaporPressureDeficit', 'photosyntheticallyActiveRadiation']"
   ]
  },
  {
   "cell_type": "markdown",
   "id": "d37727c1",
   "metadata": {},
   "source": [
    "## Plot Comparison Function\n",
    "This cell defines a function to plot comparisons between control and shaded data for a given variable and time period."
   ]
  },
  {
   "cell_type": "code",
   "execution_count": 169,
   "id": "830467db",
   "metadata": {},
   "outputs": [],
   "source": [
    "def plot_comparison(control_df, shaded_df, variable, start_date, end_date, save_path, time_scale='daily'):\n",
    "    \"\"\"Plots mean comparison for a given time period and saves it.\"\"\"\n",
    "    # Filter data for the date range\n",
    "    mask = (control_df.index >= start_date) & (control_df.index <= end_date)\n",
    "    control_df = control_df.loc[mask]\n",
    "    shaded_df = shaded_df.loc[mask]\n",
    "\n",
    "    if control_df.empty or shaded_df.empty:\n",
    "        print(f\"Skipping {variable} for {start_date} to {end_date} (no data)\")\n",
    "        return\n",
    "\n",
    "    mean_col = f\"{variable}_mean_mean\"\n",
    "    std_col = f\"{variable}_mean_std\"\n",
    "\n",
    "    fig, ax = plt.subplots(figsize=(12, 6))\n",
    "\n",
    "    # Plot data\n",
    "    ax.plot(control_df.index, control_df[mean_col], label='Control', color='black', linestyle=\"-\", linewidth=1)\n",
    "    if std_col in control_df.columns:\n",
    "        ax.fill_between(control_df.index,\n",
    "                        control_df[mean_col] - 1.96 * control_df[std_col],\n",
    "                        control_df[mean_col] + 1.96 * control_df[std_col],\n",
    "                        color='black', alpha=0.2)\n",
    "\n",
    "    ax.plot(shaded_df.index, shaded_df[mean_col], label='Shaded', color='grey', linestyle=\"--\", linewidth=1)\n",
    "    if std_col in shaded_df.columns:\n",
    "        ax.fill_between(shaded_df.index,\n",
    "                        shaded_df[mean_col] - 1.96 * shaded_df[std_col],\n",
    "                        shaded_df[mean_col] + 1.96 * shaded_df[std_col],\n",
    "                        color='grey', alpha=0.2)\n",
    "\n",
    "    # Add red lines for specific variables\n",
    "    if variable == 'temperature':\n",
    "        ax.axhline(y=26, color='red', linestyle='--', linewidth=1, label='Threshold (26°C)')\n",
    "    elif variable == 'temperature_daytime':\n",
    "        ax.axhline(y=26, color='red', linestyle='--', linewidth=1, label='Threshold (26°C)')\n",
    "    elif variable == 'temperature_nighttime':\n",
    "        ax.axhline(y=26, color='red', linestyle='--', linewidth=1, label='Threshold (26°C)')\n",
    "    elif variable == 'humidity':\n",
    "        ax.axhline(y=60, color='red', linestyle='--', linewidth=1, label='Threshold (60%)')\n",
    "\n",
    "    # Set titles and labels\n",
    "    title_date_format = '%Y-%m-%d' if time_scale == 'daily' else '%B %Y'\n",
    "    ax.set_title(f\"{variable.capitalize()} Comparison ({start_date.strftime(title_date_format)}{f' to {end_date.strftime(title_date_format)}' if start_date != end_date else ''})\")\n",
    "    ax.set_ylabel(variable.capitalize())\n",
    "    ax.legend()\n",
    "\n",
    "    # Adjust end_date to exclude the first day of the following month\n",
    "    end_date = end_date - pd.Timedelta(seconds=1)\n",
    "\n",
    "    # X-axis formatting based on time scale\n",
    "    if time_scale == 'hourly':\n",
    "        # For hourly data, show hours\n",
    "        ax.xaxis.set_major_locator(mdates.HourLocator(interval=3))  # Show every 3 hours to avoid crowding\n",
    "        ax.xaxis.set_major_formatter(mdates.DateFormatter('%H:%M'))\n",
    "        ax.set_xlabel('Time of Day')\n",
    "    else:\n",
    "        # For daily data, show single-day dates\n",
    "        ax.xaxis.set_major_locator(mdates.DayLocator())\n",
    "        ax.xaxis.set_major_formatter(mdates.DateFormatter('%Y-%m-%d'))\n",
    "        ax.set_xlabel('Date')\n",
    "        ax.set_xlim(start_date, end_date)  # Restrict x-axis to the specified month\n",
    "\n",
    "    plt.xticks(rotation=45, ha='right')\n",
    "    plt.tight_layout()\n",
    "\n",
    "    os.makedirs(os.path.dirname(save_path), exist_ok=True)\n",
    "    plt.savefig(save_path)\n",
    "    plt.close()\n",
    "    print(f\"Saved plot: {save_path}\")"
   ]
  },
  {
   "cell_type": "markdown",
   "id": "a416be47",
   "metadata": {},
   "source": [
    "## Plot Monthly Comparisons\n",
    "The following cell defines a function to generate monthly comparison plots for all variables."
   ]
  },
  {
   "cell_type": "code",
   "execution_count": 170,
   "id": "a14a9e1e",
   "metadata": {},
   "outputs": [],
   "source": [
    "def plot_monthly_comparison():\n",
    "    \"\"\"Plots data for each month using daily data.\"\"\"\n",
    "    # Create main folders if they don't exist\n",
    "    os.makedirs(\"plots/monthly\", exist_ok=True)\n",
    "\n",
    "    # Get all unique year-month combinations\n",
    "    unique_months = control_daily.index.to_period('M').unique()\n",
    "\n",
    "    for month_period in unique_months:\n",
    "        start_date = month_period.start_time\n",
    "        end_date = month_period.end_time\n",
    "\n",
    "        # Create variable folders for this month\n",
    "        for var in variables:\n",
    "            variable_folder = f\"plots/monthly/{var}\"\n",
    "            os.makedirs(variable_folder, exist_ok=True)\n",
    "\n",
    "            save_path = f\"{variable_folder}/{start_date.strftime('%Y-%m')}.png\"\n",
    "\n",
    "            # Check if the std column exists for the variable\n",
    "            std_col = f\"{var}_mean_std\"\n",
    "            if std_col not in control_daily.columns or std_col not in shaded_daily.columns:\n",
    "                print(f\"Skipping std for {var} as it is missing.\")\n",
    "                plot_comparison(control_daily, shaded_daily, var, start_date, end_date, save_path, time_scale='daily')\n",
    "            else:\n",
    "                plot_comparison(control_daily, shaded_daily, var, start_date, end_date, save_path, time_scale='daily')"
   ]
  },
  {
   "cell_type": "markdown",
   "id": "b036da7e",
   "metadata": {},
   "source": [
    "## Plot Daily Comparisons\n",
    "This cell defines a function to generate daily comparison plots for all variables."
   ]
  },
  {
   "cell_type": "code",
   "execution_count": 171,
   "id": "f362a39c",
   "metadata": {},
   "outputs": [],
   "source": [
    "def plot_daily_comparison():\n",
    "    \"\"\"Plots data for each day using hourly data.\"\"\"\n",
    "    # Create main folders if they don't exist\n",
    "    os.makedirs(\"plots/daily\", exist_ok=True)\n",
    "\n",
    "    # Get all unique dates in the hourly data\n",
    "    unique_dates = pd.to_datetime(control_hourly.index.date).unique()\n",
    "\n",
    "    for date in unique_dates:\n",
    "        start_date = pd.to_datetime(date)\n",
    "        end_date = start_date + pd.Timedelta(days=1) - pd.Timedelta(seconds=1)\n",
    "\n",
    "        # Create variable folders for this day\n",
    "        for var in variables:\n",
    "            variable_folder = f\"plots/daily/{var}\"\n",
    "            os.makedirs(variable_folder, exist_ok=True)\n",
    "\n",
    "            save_path = f\"{variable_folder}/{start_date.strftime('%Y-%m-%d')}.png\"\n",
    "\n",
    "            # Check if the std column exists for the variable\n",
    "            std_col = f\"{var}_mean_std\"\n",
    "            if std_col not in control_hourly.columns or std_col not in shaded_hourly.columns:\n",
    "                print(f\"Skipping std for {var} as it is missing.\")\n",
    "                plot_comparison(control_hourly, shaded_hourly, var, start_date, end_date, save_path, time_scale='hourly')\n",
    "            else:\n",
    "                plot_comparison(control_hourly, shaded_hourly, var, start_date, end_date, save_path, time_scale='hourly')\n"
   ]
  },
  {
   "cell_type": "markdown",
   "id": "3f1ae7a9",
   "metadata": {},
   "source": [
    "## Combined Histogram of t_above_threshold\n",
    "The following cell defines a function to create a combined chart with separate histograms for temperature sums and counts, each with its own y-axis."
   ]
  },
  {
   "cell_type": "code",
   "execution_count": 172,
   "id": "9c250a25",
   "metadata": {},
   "outputs": [],
   "source": [
    "\n",
    "\n",
    "def plot_combined_t_above_threshold(control_file, shaded_file, save_path, time_unit='days'):\n",
    "    \"\"\"Creates a combined bar chart with dual y-axes for temperature sums and count > 0 using hatching patterns.\"\"\"\n",
    "\n",
    "    # Load data\n",
    "    control_df = pd.read_csv(control_file)\n",
    "    shaded_df = pd.read_csv(shaded_file)\n",
    "\n",
    "    # Calculate values\n",
    "    control_sum = control_df['t_above_threshold_mean'].sum()\n",
    "    shaded_sum = shaded_df['t_above_threshold_mean'].sum()\n",
    "\n",
    "    control_count = (control_df['t_above_threshold_mean'] > 0).sum()\n",
    "    shaded_count = (shaded_df['t_above_threshold_mean'] > 0).sum()\n",
    "\n",
    "    # Data\n",
    "    categories = ['Control', 'Shaded']\n",
    "    sums = [control_sum, shaded_sum]\n",
    "    counts = [control_count, shaded_count]\n",
    "\n",
    "    fig, ax1 = plt.subplots(figsize=(8, 6))\n",
    "\n",
    "    # Style settings\n",
    "    bar_width = 0.25  # narrower bars\n",
    "    x = range(len(categories))\n",
    "    offset = 0.15     # spacing between bars\n",
    "\n",
    "    # Bar positions\n",
    "    sum_positions = [i - offset for i in x]\n",
    "    count_positions = [i + offset for i in x]\n",
    "\n",
    "    # Temperature sum bars (left y-axis)\n",
    "    bars1 = ax1.bar(\n",
    "        sum_positions,\n",
    "        sums,\n",
    "        bar_width,\n",
    "        color='white',\n",
    "        edgecolor='black',\n",
    "        hatch='///',\n",
    "        label='Temperature Sum (°C)'\n",
    "    )\n",
    "    ax1.set_ylabel('Temperature Sum (°C)', color='black')\n",
    "    ax1.tick_params(axis='y', labelcolor='black')\n",
    "\n",
    "    # Count bars (right y-axis)\n",
    "    ax2 = ax1.twinx()\n",
    "    bars2 = ax2.bar(\n",
    "        count_positions,\n",
    "        counts,\n",
    "        bar_width,\n",
    "        color='white',\n",
    "        edgecolor='grey',\n",
    "        hatch='xxx',\n",
    "        label=f'Count ({time_unit})'\n",
    "    )\n",
    "    ax2.set_ylabel(f'Count ({time_unit})', color='grey')\n",
    "    ax2.tick_params(axis='y', labelcolor='grey')\n",
    "\n",
    "    # X-axis\n",
    "    ax1.set_xlabel('Treatment')\n",
    "    ax1.set_xticks(x)\n",
    "    ax1.set_xticklabels(categories)\n",
    "\n",
    "    # Title\n",
    "    plt.title(f'Temperature Above Threshold: Sum and Count per Treatment ({time_unit.capitalize()})')\n",
    "\n",
    "    # Adjust vertical space\n",
    "    max_height = max(sums + counts)\n",
    "    ax1.set_ylim(0, max_height * 1.6)  # Add 60% headroom\n",
    "\n",
    "    # Combine legends above the plot\n",
    "    handles1, labels1 = ax1.get_legend_handles_labels()\n",
    "    handles2, labels2 = ax2.get_legend_handles_labels()\n",
    "    fig.legend(\n",
    "        handles1 + handles2,\n",
    "        labels1 + labels2,\n",
    "        loc='upper center',\n",
    "        ncol=2,\n",
    "        bbox_to_anchor=(0.5, 1.10)\n",
    "    )\n",
    "\n",
    "    # Save\n",
    "    os.makedirs(os.path.dirname(save_path), exist_ok=True)\n",
    "    plt.tight_layout(rect=[0, 0, 1, 0.92])  # Adjust layout for legend space\n",
    "    plt.savefig(save_path)\n",
    "    plt.close()\n",
    "    print(f\"Saved plot: {save_path}\")\n"
   ]
  },
  {
   "cell_type": "markdown",
   "id": "2fb900d8",
   "metadata": {},
   "source": [
    "## Run Combined Histogram Function\n",
    "The following cell runs the combined histogram function for t_above_threshold."
   ]
  },
  {
   "cell_type": "code",
   "execution_count": 173,
   "id": "17c273e9",
   "metadata": {},
   "outputs": [
    {
     "name": "stdout",
     "output_type": "stream",
     "text": [
      "Saved plot: plots/combined_t_above_threshold_days.png\n",
      "Saved plot: plots/combined_t_above_threshold_hours.png\n"
     ]
    }
   ],
   "source": [
    "plot_combined_t_above_threshold(\n",
    "    'mean_std_data/combined_termoigrometro_PAR_control_daily_mean_std.csv',\n",
    "    'mean_std_data/combined_termoigrometro_PAR_shaded_daily_mean_std.csv',\n",
    "    'plots/combined_t_above_threshold_days.png',\n",
    "    time_unit='days'\n",
    ")\n",
    "\n",
    "plot_combined_t_above_threshold(\n",
    "    'mean_std_data/combined_termoigrometro_PAR_control_hourly_mean_std.csv',\n",
    "    'mean_std_data/combined_termoigrometro_PAR_shaded_hourly_mean_std.csv',\n",
    "    'plots/combined_t_above_threshold_hours.png',\n",
    "    time_unit='hours'\n",
    ")"
   ]
  },
  {
   "cell_type": "markdown",
   "id": "7698bb2c",
   "metadata": {},
   "source": [
    "## DLI Comparison\n",
    "The following cell defines a function to create histograms comparing DLI (Daily Light Integral) for control and shaded data."
   ]
  },
  {
   "cell_type": "code",
   "execution_count": 174,
   "id": "ab3fbbb6",
   "metadata": {},
   "outputs": [],
   "source": [
    "def plot_dli_comparison(control_file, shaded_file, save_path):\n",
    "    \"\"\"Creates a histogram comparing DLI (mol m-2 d-1) for control and shaded data.\"\"\"\n",
    "    # Load data\n",
    "    control_df = pd.read_csv(control_file)\n",
    "    shaded_df = pd.read_csv(shaded_file)\n",
    "\n",
    "    # Calculate the mean DLI for control and shaded\n",
    "    control_dli_mean = control_df['DLI_mol m-2 d-1'].sum()\n",
    "    shaded_dli_mean = shaded_df['DLI_mol m-2 d-1'].sum()\n",
    "\n",
    "    # Data for the histogram\n",
    "    categories = ['Control', 'Shaded']\n",
    "    dli_means = [control_dli_mean, shaded_dli_mean]\n",
    "\n",
    "    # Plot the histogram\n",
    "    fig, ax = plt.subplots(figsize=(8, 6))\n",
    "    ax.bar(categories, dli_means, color=['black', 'white'], alpha=0.7, width=0.5, edgecolor='black', linewidth=1.5)\n",
    "\n",
    "    # Set labels and title\n",
    "    ax.set_ylabel('DLI (mol m-2 d-1)')\n",
    "    ax.set_title('Comparison of DLI (Daily Light Integral)')\n",
    "\n",
    "    # Save the plot\n",
    "    os.makedirs(os.path.dirname(save_path), exist_ok=True)\n",
    "    plt.tight_layout()\n",
    "    plt.savefig(save_path)\n",
    "    plt.close()\n",
    "    print(f\"Saved DLI comparison histogram: {save_path}\")"
   ]
  },
  {
   "cell_type": "markdown",
   "id": "01af2677",
   "metadata": {},
   "source": [
    "## Run Plotting Functions\n",
    "The following cell runs the defined functions to generate and save the plots."
   ]
  },
  {
   "cell_type": "code",
   "execution_count": 175,
   "id": "52acf9cf",
   "metadata": {},
   "outputs": [
    {
     "data": {
      "text/plain": [
       "\"\\nplot_monthly_comparison()\\n\\n\\nplot_daily_comparison()\\n\\n\\nplot_dli_comparison(\\n    'hourly_daily_data/PAR_control_daily.csv',\\n    'hourly_daily_data/PAR_shaded_daily.csv',\\n    'plots/dli_comparison_histogram.png'\\n)\\n\""
      ]
     },
     "execution_count": 175,
     "metadata": {},
     "output_type": "execute_result"
    }
   ],
   "source": [
    "'''\n",
    "plot_monthly_comparison()\n",
    "\n",
    "\n",
    "plot_daily_comparison()\n",
    "\n",
    "\n",
    "plot_dli_comparison(\n",
    "    'hourly_daily_data/PAR_control_daily.csv',\n",
    "    'hourly_daily_data/PAR_shaded_daily.csv',\n",
    "    'plots/dli_comparison_histogram.png'\n",
    ")\n",
    "'''"
   ]
  }
 ],
 "metadata": {
  "kernelspec": {
   "display_name": "venv",
   "language": "python",
   "name": "python3"
  },
  "language_info": {
   "codemirror_mode": {
    "name": "ipython",
    "version": 3
   },
   "file_extension": ".py",
   "mimetype": "text/x-python",
   "name": "python",
   "nbconvert_exporter": "python",
   "pygments_lexer": "ipython3",
   "version": "3.11.9"
  }
 },
 "nbformat": 4,
 "nbformat_minor": 5
}
