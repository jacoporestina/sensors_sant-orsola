{
 "cells": [
  {
   "cell_type": "markdown",
   "id": "6aefc842",
   "metadata": {},
   "source": [
    "# Sensor Data Analysis and Plotting\n",
    "This notebook contains code for loading sensor data, processing it, and generating various plots for analysis."
   ]
  },
  {
   "cell_type": "markdown",
   "id": "35a50a9e",
   "metadata": {},
   "source": [
    "## Import Required Libraries\n",
    "The following cell imports the necessary libraries for data manipulation and visualization."
   ]
  },
  {
   "cell_type": "code",
   "execution_count": 11,
   "id": "259480cd",
   "metadata": {},
   "outputs": [],
   "source": [
    "import pandas as pd\n",
    "import matplotlib.pyplot as plt\n",
    "import matplotlib.dates as mdates\n",
    "import os"
   ]
  },
  {
   "cell_type": "markdown",
   "id": "3392db76",
   "metadata": {},
   "source": [
    "## Load Datasets\n",
    "The following cell defines a function to load datasets with proper date parsing and loads the required datasets."
   ]
  },
  {
   "cell_type": "code",
   "execution_count": 12,
   "id": "bd2d0dd5",
   "metadata": {},
   "outputs": [],
   "source": [
    "def load_data(file_path):\n",
    "    df = pd.read_csv(file_path, parse_dates=['receivedAt'])\n",
    "    df['receivedAt'] = pd.to_datetime(df['receivedAt'])\n",
    "    df.set_index('receivedAt', inplace=True)\n",
    "    df.index = df.index.tz_localize(None) if df.index.tz is not None else df.index\n",
    "    return df\n",
    "\n",
    "control_daily = load_data('mean_std_data/combined_termoigrometro_PAR_control_daily_mean_std.csv')\n",
    "shaded_daily = load_data('mean_std_data/combined_termoigrometro_PAR_shaded_daily_mean_std.csv')\n",
    "control_hourly = load_data('mean_std_data/combined_termoigrometro_PAR_control_hourly_mean_std.csv')\n",
    "shaded_hourly = load_data('mean_std_data/combined_termoigrometro_PAR_shaded_hourly_mean_std.csv')"
   ]
  },
  {
   "cell_type": "markdown",
   "id": "a039ba4c",
   "metadata": {},
   "source": [
    "## Define Variables to Plot\n",
    "The following cell defines the variables that will be used for plotting."
   ]
  },
  {
   "cell_type": "code",
   "execution_count": 13,
   "id": "55a6ab82",
   "metadata": {},
   "outputs": [],
   "source": [
    "variables = ['temperature', 'temperature_daytime', 'temperature_nighttime', 'humidity', 'vaporPressureDeficit', 'photosyntheticallyActiveRadiation']"
   ]
  },
  {
   "cell_type": "markdown",
   "id": "d37727c1",
   "metadata": {},
   "source": [
    "## Plot Comparison Function\n",
    "This cell defines a function to plot comparisons between control and shaded data for a given variable and time period."
   ]
  },
  {
   "cell_type": "code",
   "execution_count": 14,
   "id": "830467db",
   "metadata": {},
   "outputs": [],
   "source": [
    "def plot_comparison(control_df, shaded_df, variable, start_date, end_date, save_path, time_scale='daily'):\n",
    "    \"\"\"Plots mean comparison for a given time period and saves it.\"\"\"\n",
    "\n",
    "    # Map variable names to y-axis labels\n",
    "    y_axis_labels = {\n",
    "        \"temperature\": \"temperature (°C)\",\n",
    "        \"temperature_daytime\": \"temperature_daytime (°C)\",\n",
    "        \"temperature_nighttime\": \"temperature_nighttime (°C)\",\n",
    "        \"humidity\": \"RH (%)\",\n",
    "        \"photosyntheticallyActiveRadiation\": \"PAR (µmol m⁻² s⁻¹)\"\n",
    "    }\n",
    "\n",
    "    # Filter data for the date range\n",
    "    mask = (control_df.index >= start_date) & (control_df.index <= end_date)\n",
    "    control_df = control_df.loc[mask]\n",
    "    shaded_df = shaded_df.loc[mask]\n",
    "\n",
    "    if control_df.empty or shaded_df.empty:\n",
    "        print(f\"Skipping {variable} for {start_date} to {end_date} (no data)\")\n",
    "        return\n",
    "\n",
    "    mean_col = f\"{variable}_mean_mean\"\n",
    "    std_col = f\"{variable}_mean_std\"\n",
    "\n",
    "    # Skip plotting if required columns are missing\n",
    "    missing_cols = [\n",
    "        col for col in [mean_col, std_col]\n",
    "        if col not in control_df.columns or col not in shaded_df.columns\n",
    "    ]\n",
    "    if mean_col not in control_df.columns or mean_col not in shaded_df.columns:\n",
    "        print(f\"Skipping {variable} for {start_date.date()} — missing required column: '{mean_col}'\")\n",
    "        return\n",
    "\n",
    "    fig, ax = plt.subplots(figsize=(12, 6))\n",
    "\n",
    "    # Plot mean lines\n",
    "    ax.plot(control_df.index, control_df[mean_col], label='Control', color='black', linestyle=\"-\", linewidth=1)\n",
    "    if std_col in control_df.columns:\n",
    "        ax.fill_between(control_df.index,\n",
    "                        control_df[mean_col] - 1.96 * control_df[std_col],\n",
    "                        control_df[mean_col] + 1.96 * control_df[std_col],\n",
    "                        color='black', alpha=0.2)\n",
    "\n",
    "    ax.plot(shaded_df.index, shaded_df[mean_col], label='Shaded', color='grey', linestyle=\"--\", linewidth=1)\n",
    "    if std_col in shaded_df.columns:\n",
    "        ax.fill_between(shaded_df.index,\n",
    "                        shaded_df[mean_col] - 1.96 * shaded_df[std_col],\n",
    "                        shaded_df[mean_col] + 1.96 * shaded_df[std_col],\n",
    "                        color='grey', alpha=0.2)\n",
    "\n",
    "    # Optional red threshold lines\n",
    "    if variable in ['temperature', 'temperature_daytime', 'temperature_nighttime']:\n",
    "        ax.axhline(y=26, color='red', linestyle='--', linewidth=1, label='Threshold (26°C)')\n",
    "    elif variable == 'humidity':\n",
    "        ax.axhline(y=60, color='red', linestyle='--', linewidth=1, label='Threshold (60%)')\n",
    "\n",
    "    # Set title (only date or month)\n",
    "    if time_scale == 'daily':\n",
    "        title_str = start_date.strftime('%Y-%m-%d') if start_date == end_date else f\"{start_date.strftime('%Y-%m-%d')} to {end_date.strftime('%Y-%m-%d')}\"\n",
    "    elif time_scale == 'monthly':\n",
    "        title_str = start_date.strftime('%B %Y')\n",
    "    else:\n",
    "        title_str = f\"{start_date.strftime('%Y-%m-%d')} to {end_date.strftime('%Y-%m-%d')}\"\n",
    "\n",
    "    ax.set_title(title_str)\n",
    "\n",
    "    # Use personalized y-axis label if available\n",
    "    y_label = y_axis_labels.get(variable, variable.capitalize())\n",
    "    ax.set_ylabel(y_label)\n",
    "    ax.legend()\n",
    "\n",
    "    end_date = end_date - pd.Timedelta(seconds=1)  # Trim range\n",
    "\n",
    "    # X-axis formatting\n",
    "    if time_scale == 'hourly':\n",
    "        ax.xaxis.set_major_locator(mdates.HourLocator(interval=3))\n",
    "        ax.xaxis.set_major_formatter(mdates.DateFormatter('%H:%M'))\n",
    "        ax.set_xlabel('Time of Day')\n",
    "    else:\n",
    "        ax.xaxis.set_major_locator(mdates.DayLocator())\n",
    "        ax.xaxis.set_major_formatter(mdates.DateFormatter('%Y-%m-%d'))\n",
    "        ax.set_xlabel('Date')\n",
    "        ax.set_xlim(start_date, end_date)\n",
    "\n",
    "    plt.xticks(rotation=45, ha='right')\n",
    "    plt.tight_layout()\n",
    "\n",
    "    os.makedirs(os.path.dirname(save_path), exist_ok=True)\n",
    "    plt.savefig(save_path)\n",
    "    plt.close()\n",
    "    print(f\"Saved plot: {save_path}\")\n"
   ]
  },
  {
   "cell_type": "markdown",
   "id": "a416be47",
   "metadata": {},
   "source": [
    "## Plot Monthly Comparisons\n",
    "The following cell defines a function to generate monthly comparison plots for all variables."
   ]
  },
  {
   "cell_type": "code",
   "execution_count": 15,
   "id": "a14a9e1e",
   "metadata": {},
   "outputs": [],
   "source": [
    "def plot_monthly_comparison():\n",
    "    \"\"\"Plots data for each month using daily data.\"\"\"\n",
    "    # Create main folders if they don't exist\n",
    "    os.makedirs(\"plots/monthly\", exist_ok=True)\n",
    "\n",
    "    # Get all unique year-month combinations\n",
    "    unique_months = control_daily.index.to_period('M').unique()\n",
    "\n",
    "    for month_period in unique_months:\n",
    "        start_date = month_period.start_time\n",
    "        end_date = month_period.end_time\n",
    "\n",
    "        # Create variable folders for this month\n",
    "        for var in variables:\n",
    "            variable_folder = f\"plots/monthly/{var}\"\n",
    "            os.makedirs(variable_folder, exist_ok=True)\n",
    "\n",
    "            save_path = f\"{variable_folder}/{start_date.strftime('%Y-%m')}.png\"\n",
    "\n",
    "            # Check if the std column exists for the variable\n",
    "            std_col = f\"{var}_mean_std\"\n",
    "            if std_col not in control_daily.columns or std_col not in shaded_daily.columns:\n",
    "                print(f\"Skipping std for {var} as it is missing.\")\n",
    "                plot_comparison(control_daily, shaded_daily, var, start_date, end_date, save_path, time_scale='daily')\n",
    "            else:\n",
    "                plot_comparison(control_daily, shaded_daily, var, start_date, end_date, save_path, time_scale='daily')"
   ]
  },
  {
   "cell_type": "markdown",
   "id": "b036da7e",
   "metadata": {},
   "source": [
    "## Plot Daily Comparisons\n",
    "This cell defines a function to generate daily comparison plots for all variables."
   ]
  },
  {
   "cell_type": "code",
   "execution_count": 16,
   "id": "f362a39c",
   "metadata": {},
   "outputs": [],
   "source": [
    "def plot_daily_comparison():\n",
    "    \"\"\"Plots data for each day using hourly data.\"\"\"\n",
    "    # Create main folders if they don't exist\n",
    "    os.makedirs(\"plots/daily\", exist_ok=True)\n",
    "\n",
    "    # Get all unique dates in the hourly data\n",
    "    unique_dates = pd.to_datetime(control_hourly.index.date).unique()\n",
    "\n",
    "    for date in unique_dates:\n",
    "        start_date = pd.to_datetime(date)\n",
    "        end_date = start_date + pd.Timedelta(days=1) - pd.Timedelta(seconds=1)\n",
    "\n",
    "        for var in variables:\n",
    "            # Skip if the variable is \"temperature_daytime\" or \"temperature_nighttime\"\n",
    "            if var in [\"temperature_daytime_mean_mean\", \"temperature_nighttime_mean_mean\"]:\n",
    "                if var not in control_hourly.columns or var not in shaded_hourly.columns:\n",
    "                    print(f\"Skipping {var} for {start_date.date()} as it is missing in data.\")\n",
    "                    continue\n",
    "\n",
    "            # Create folder and plot\n",
    "            variable_folder = f\"plots/daily/{var}\"\n",
    "            os.makedirs(variable_folder, exist_ok=True)\n",
    "            save_path = f\"{variable_folder}/{start_date.strftime('%Y-%m-%d')}.png\"\n",
    "\n",
    "            std_col = f\"{var}_mean_std\"\n",
    "            if std_col not in control_hourly.columns or std_col not in shaded_hourly.columns:\n",
    "                print(f\"Skipping std for {var} on {start_date.date()} as it is missing.\")\n",
    "                plot_comparison(control_hourly, shaded_hourly, var, start_date, end_date, save_path, time_scale='hourly')\n",
    "            else:\n",
    "                plot_comparison(control_hourly, shaded_hourly, var, start_date, end_date, save_path, time_scale='hourly')\n",
    "\n"
   ]
  },
  {
   "cell_type": "markdown",
   "id": "3f1ae7a9",
   "metadata": {},
   "source": [
    "## Combined Histogram of t_above_threshold\n",
    "The following cell defines a function to create a combined chart with separate histograms for temperature sums and counts, each with its own y-axis."
   ]
  },
  {
   "cell_type": "code",
   "execution_count": 17,
   "id": "9c250a25",
   "metadata": {},
   "outputs": [],
   "source": [
    "def plot_combined_t_above_threshold(control_file, shaded_file, save_base_path, time_unit='days'):\n",
    "    \"\"\"Creates bar charts per month showing temperature sums (with std) and count > 0 using dual axes.\"\"\"\n",
    "\n",
    "    # Load data\n",
    "    control_df = pd.read_csv(control_file, parse_dates=['receivedAt'])\n",
    "    shaded_df = pd.read_csv(shaded_file, parse_dates=['receivedAt'])\n",
    "\n",
    "    # Filter from April 1st\n",
    "    control_df = control_df[control_df['receivedAt'] >= '2024-04-01']\n",
    "    shaded_df = shaded_df[shaded_df['receivedAt'] >= '2024-04-01']\n",
    "\n",
    "    # Add month column\n",
    "    control_df['month'] = control_df['receivedAt'].dt.to_period('M')\n",
    "    shaded_df['month'] = shaded_df['receivedAt'].dt.to_period('M')\n",
    "\n",
    "    # Group by month\n",
    "    months = sorted(set(control_df['month']) & set(shaded_df['month']))\n",
    "\n",
    "    for month in months:\n",
    "        control_month = control_df[control_df['month'] == month]\n",
    "        shaded_month = shaded_df[shaded_df['month'] == month]\n",
    "\n",
    "        # Skip if missing required column\n",
    "        if 't_above_threshold_mean' not in control_month or 't_above_threshold_mean' not in shaded_month:\n",
    "            print(f\"Skipping {month} — missing 't_above_threshold_mean'\")\n",
    "            continue\n",
    "\n",
    "        # Compute sums and stds\n",
    "        sums = [\n",
    "            control_month['t_above_threshold_mean'].sum(),\n",
    "            shaded_month['t_above_threshold_mean'].sum()\n",
    "        ]\n",
    "        stds = [\n",
    "            control_month['t_above_threshold_mean'].std(),\n",
    "            shaded_month['t_above_threshold_mean'].std()\n",
    "        ]\n",
    "\n",
    "        # Counts above threshold\n",
    "        counts = [\n",
    "            (control_month['t_above_threshold_mean'] > 0).sum(),\n",
    "            (shaded_month['t_above_threshold_mean'] > 0).sum()\n",
    "        ]\n",
    "\n",
    "        # Plot setup\n",
    "        categories = ['Control', 'Shaded']\n",
    "        x = range(len(categories))\n",
    "        bar_width = 0.25\n",
    "        offset = 0.15\n",
    "        sum_pos = [i - offset for i in x]\n",
    "        count_pos = [i + offset for i in x]\n",
    "\n",
    "        fig, ax1 = plt.subplots(figsize=(8, 6))\n",
    "\n",
    "        # Temperature sum bars (with error bars)\n",
    "        bars1 = ax1.bar(\n",
    "            sum_pos, sums, yerr=stds,\n",
    "            width=bar_width, color='white', edgecolor='black',\n",
    "            hatch='///', label='Temperature Sum (°C)', capsize=5\n",
    "        )\n",
    "        ax1.set_ylabel('Temperature Sum (°C)', color='black')\n",
    "        ax1.tick_params(axis='y', labelcolor='black')\n",
    "\n",
    "        # Count bars on right y-axis\n",
    "        ax2 = ax1.twinx()\n",
    "        bars2 = ax2.bar(\n",
    "            count_pos, counts,\n",
    "            width=bar_width, color='white', edgecolor='black',\n",
    "            label=f'Count ({time_unit})'\n",
    "        )\n",
    "        ax2.set_ylabel(f'Count ({time_unit})', color='black')\n",
    "        ax2.tick_params(axis='y', labelcolor='black')\n",
    "\n",
    "        # X-axis\n",
    "        ax1.set_xticks(x)\n",
    "        ax1.set_xticklabels(categories)\n",
    "        ax1.set_xlabel('Treatment')\n",
    "\n",
    "        # Title\n",
    "        month_str = month.strftime('%B %Y')\n",
    "        plt.title(f'Temperature Above Threshold — {month_str}')\n",
    "\n",
    "        # Adjust y-limits\n",
    "        max_height = max(sums + counts)\n",
    "        ax1.set_ylim(0, max_height * 1.6)\n",
    "\n",
    "        # Combined legend\n",
    "        handles1, labels1 = ax1.get_legend_handles_labels()\n",
    "        handles2, labels2 = ax2.get_legend_handles_labels()\n",
    "        fig.legend(\n",
    "            handles1 + handles2, labels1 + labels2,\n",
    "            loc='upper right', bbox_to_anchor=(0.9, 0.88), frameon=True\n",
    "        )\n",
    "\n",
    "        # Save path\n",
    "        month_filename = month.strftime('%Y_%m')\n",
    "        save_path = os.path.join(save_base_path, f'combined_t_above_threshold_{month_filename}.png')\n",
    "        os.makedirs(save_base_path, exist_ok=True)\n",
    "\n",
    "        plt.tight_layout(rect=[0, 0, 1, 0.95])\n",
    "        plt.savefig(save_path)\n",
    "        plt.close()\n",
    "        print(f\"Saved plot: {save_path}\")"
   ]
  },
  {
   "cell_type": "markdown",
   "id": "2fb900d8",
   "metadata": {},
   "source": [
    "## Run Combined Histogram Function\n",
    "The following cell runs the combined histogram function for t_above_threshold."
   ]
  },
  {
   "cell_type": "code",
   "execution_count": 18,
   "id": "17c273e9",
   "metadata": {},
   "outputs": [
    {
     "name": "stderr",
     "output_type": "stream",
     "text": [
      "C:\\Users\\jacop\\AppData\\Local\\Temp\\ipykernel_14732\\3785338160.py:13: UserWarning: Converting to PeriodArray/Index representation will drop timezone information.\n",
      "  control_df['month'] = control_df['receivedAt'].dt.to_period('M')\n",
      "C:\\Users\\jacop\\AppData\\Local\\Temp\\ipykernel_14732\\3785338160.py:14: UserWarning: Converting to PeriodArray/Index representation will drop timezone information.\n",
      "  shaded_df['month'] = shaded_df['receivedAt'].dt.to_period('M')\n",
      "C:\\Users\\jacop\\AppData\\Local\\Temp\\ipykernel_14732\\3785338160.py:84: UserWarning: Attempting to set identical low and high ylims makes transformation singular; automatically expanding.\n",
      "  ax1.set_ylim(0, max_height * 1.6)\n"
     ]
    },
    {
     "name": "stdout",
     "output_type": "stream",
     "text": [
      "Saved plot: plots/combined_t_above_threshold_days\\combined_t_above_threshold_2024_06.png\n",
      "Saved plot: plots/combined_t_above_threshold_days\\combined_t_above_threshold_2024_07.png\n",
      "Saved plot: plots/combined_t_above_threshold_days\\combined_t_above_threshold_2024_08.png\n",
      "Saved plot: plots/combined_t_above_threshold_days\\combined_t_above_threshold_2024_09.png\n"
     ]
    },
    {
     "name": "stderr",
     "output_type": "stream",
     "text": [
      "C:\\Users\\jacop\\AppData\\Local\\Temp\\ipykernel_14732\\3785338160.py:84: UserWarning: Attempting to set identical low and high ylims makes transformation singular; automatically expanding.\n",
      "  ax1.set_ylim(0, max_height * 1.6)\n",
      "C:\\Users\\jacop\\AppData\\Local\\Temp\\ipykernel_14732\\3785338160.py:84: UserWarning: Attempting to set identical low and high ylims makes transformation singular; automatically expanding.\n",
      "  ax1.set_ylim(0, max_height * 1.6)\n"
     ]
    },
    {
     "name": "stdout",
     "output_type": "stream",
     "text": [
      "Saved plot: plots/combined_t_above_threshold_days\\combined_t_above_threshold_2024_10.png\n",
      "Saved plot: plots/combined_t_above_threshold_days\\combined_t_above_threshold_2024_11.png\n"
     ]
    },
    {
     "name": "stderr",
     "output_type": "stream",
     "text": [
      "C:\\Users\\jacop\\AppData\\Local\\Temp\\ipykernel_14732\\3785338160.py:84: UserWarning: Attempting to set identical low and high ylims makes transformation singular; automatically expanding.\n",
      "  ax1.set_ylim(0, max_height * 1.6)\n",
      "C:\\Users\\jacop\\AppData\\Local\\Temp\\ipykernel_14732\\3785338160.py:84: UserWarning: Attempting to set identical low and high ylims makes transformation singular; automatically expanding.\n",
      "  ax1.set_ylim(0, max_height * 1.6)\n"
     ]
    },
    {
     "name": "stdout",
     "output_type": "stream",
     "text": [
      "Saved plot: plots/combined_t_above_threshold_days\\combined_t_above_threshold_2024_12.png\n",
      "Saved plot: plots/combined_t_above_threshold_days\\combined_t_above_threshold_2025_01.png\n"
     ]
    },
    {
     "name": "stderr",
     "output_type": "stream",
     "text": [
      "C:\\Users\\jacop\\AppData\\Local\\Temp\\ipykernel_14732\\3785338160.py:84: UserWarning: Attempting to set identical low and high ylims makes transformation singular; automatically expanding.\n",
      "  ax1.set_ylim(0, max_height * 1.6)\n",
      "C:\\Users\\jacop\\AppData\\Local\\Temp\\ipykernel_14732\\3785338160.py:84: UserWarning: Attempting to set identical low and high ylims makes transformation singular; automatically expanding.\n",
      "  ax1.set_ylim(0, max_height * 1.6)\n"
     ]
    },
    {
     "name": "stdout",
     "output_type": "stream",
     "text": [
      "Saved plot: plots/combined_t_above_threshold_days\\combined_t_above_threshold_2025_02.png\n",
      "Saved plot: plots/combined_t_above_threshold_days\\combined_t_above_threshold_2025_03.png\n"
     ]
    },
    {
     "name": "stderr",
     "output_type": "stream",
     "text": [
      "C:\\Users\\jacop\\AppData\\Local\\Temp\\ipykernel_14732\\3785338160.py:84: UserWarning: Attempting to set identical low and high ylims makes transformation singular; automatically expanding.\n",
      "  ax1.set_ylim(0, max_height * 1.6)\n",
      "C:\\Users\\jacop\\AppData\\Local\\Temp\\ipykernel_14732\\3785338160.py:84: UserWarning: Attempting to set identical low and high ylims makes transformation singular; automatically expanding.\n",
      "  ax1.set_ylim(0, max_height * 1.6)\n"
     ]
    },
    {
     "name": "stdout",
     "output_type": "stream",
     "text": [
      "Saved plot: plots/combined_t_above_threshold_days\\combined_t_above_threshold_2025_04.png\n",
      "Saved plot: plots/combined_t_above_threshold_days\\combined_t_above_threshold_2025_05.png\n"
     ]
    },
    {
     "name": "stderr",
     "output_type": "stream",
     "text": [
      "C:\\Users\\jacop\\AppData\\Local\\Temp\\ipykernel_14732\\3785338160.py:84: UserWarning: Attempting to set identical low and high ylims makes transformation singular; automatically expanding.\n",
      "  ax1.set_ylim(0, max_height * 1.6)\n"
     ]
    },
    {
     "name": "stdout",
     "output_type": "stream",
     "text": [
      "Saved plot: plots/combined_t_above_threshold_days\\combined_t_above_threshold_2025_06.png\n"
     ]
    },
    {
     "name": "stderr",
     "output_type": "stream",
     "text": [
      "C:\\Users\\jacop\\AppData\\Local\\Temp\\ipykernel_14732\\3785338160.py:13: UserWarning: Converting to PeriodArray/Index representation will drop timezone information.\n",
      "  control_df['month'] = control_df['receivedAt'].dt.to_period('M')\n",
      "C:\\Users\\jacop\\AppData\\Local\\Temp\\ipykernel_14732\\3785338160.py:14: UserWarning: Converting to PeriodArray/Index representation will drop timezone information.\n",
      "  shaded_df['month'] = shaded_df['receivedAt'].dt.to_period('M')\n",
      "C:\\Users\\jacop\\AppData\\Local\\Temp\\ipykernel_14732\\3785338160.py:84: UserWarning: Attempting to set identical low and high ylims makes transformation singular; automatically expanding.\n",
      "  ax1.set_ylim(0, max_height * 1.6)\n"
     ]
    },
    {
     "name": "stdout",
     "output_type": "stream",
     "text": [
      "Saved plot: plots/combined_t_above_threshold_hours\\combined_t_above_threshold_2024_06.png\n",
      "Saved plot: plots/combined_t_above_threshold_hours\\combined_t_above_threshold_2024_07.png\n",
      "Saved plot: plots/combined_t_above_threshold_hours\\combined_t_above_threshold_2024_08.png\n",
      "Saved plot: plots/combined_t_above_threshold_hours\\combined_t_above_threshold_2024_09.png\n",
      "Saved plot: plots/combined_t_above_threshold_hours\\combined_t_above_threshold_2024_10.png\n",
      "Saved plot: plots/combined_t_above_threshold_hours\\combined_t_above_threshold_2024_11.png\n"
     ]
    },
    {
     "name": "stderr",
     "output_type": "stream",
     "text": [
      "C:\\Users\\jacop\\AppData\\Local\\Temp\\ipykernel_14732\\3785338160.py:84: UserWarning: Attempting to set identical low and high ylims makes transformation singular; automatically expanding.\n",
      "  ax1.set_ylim(0, max_height * 1.6)\n",
      "C:\\Users\\jacop\\AppData\\Local\\Temp\\ipykernel_14732\\3785338160.py:84: UserWarning: Attempting to set identical low and high ylims makes transformation singular; automatically expanding.\n",
      "  ax1.set_ylim(0, max_height * 1.6)\n"
     ]
    },
    {
     "name": "stdout",
     "output_type": "stream",
     "text": [
      "Saved plot: plots/combined_t_above_threshold_hours\\combined_t_above_threshold_2024_12.png\n",
      "Saved plot: plots/combined_t_above_threshold_hours\\combined_t_above_threshold_2025_01.png\n"
     ]
    },
    {
     "name": "stderr",
     "output_type": "stream",
     "text": [
      "C:\\Users\\jacop\\AppData\\Local\\Temp\\ipykernel_14732\\3785338160.py:84: UserWarning: Attempting to set identical low and high ylims makes transformation singular; automatically expanding.\n",
      "  ax1.set_ylim(0, max_height * 1.6)\n",
      "C:\\Users\\jacop\\AppData\\Local\\Temp\\ipykernel_14732\\3785338160.py:84: UserWarning: Attempting to set identical low and high ylims makes transformation singular; automatically expanding.\n",
      "  ax1.set_ylim(0, max_height * 1.6)\n"
     ]
    },
    {
     "name": "stdout",
     "output_type": "stream",
     "text": [
      "Saved plot: plots/combined_t_above_threshold_hours\\combined_t_above_threshold_2025_02.png\n",
      "Saved plot: plots/combined_t_above_threshold_hours\\combined_t_above_threshold_2025_03.png\n",
      "Saved plot: plots/combined_t_above_threshold_hours\\combined_t_above_threshold_2025_04.png\n",
      "Saved plot: plots/combined_t_above_threshold_hours\\combined_t_above_threshold_2025_05.png\n",
      "Saved plot: plots/combined_t_above_threshold_hours\\combined_t_above_threshold_2025_06.png\n"
     ]
    }
   ],
   "source": [
    "plot_combined_t_above_threshold(\n",
    "    'mean_std_data/combined_termoigrometro_PAR_control_daily_mean_std.csv',\n",
    "    'mean_std_data/combined_termoigrometro_PAR_shaded_daily_mean_std.csv',\n",
    "    'plots/combined_t_above_threshold_days',\n",
    "    time_unit='days'\n",
    ")\n",
    "\n",
    "plot_combined_t_above_threshold(\n",
    "    'mean_std_data/combined_termoigrometro_PAR_control_hourly_mean_std.csv',\n",
    "    'mean_std_data/combined_termoigrometro_PAR_shaded_hourly_mean_std.csv',\n",
    "    'plots/combined_t_above_threshold_hours',\n",
    "    time_unit='hours'\n",
    ")\n"
   ]
  },
  {
   "cell_type": "markdown",
   "id": "7698bb2c",
   "metadata": {},
   "source": [
    "## DLI Comparison\n",
    "The following cell defines a function to create histograms comparing DLI (Daily Light Integral) for control and shaded data."
   ]
  },
  {
   "cell_type": "code",
   "execution_count": 19,
   "id": "ab3fbbb6",
   "metadata": {},
   "outputs": [],
   "source": [
    "def plot_dli_comparison(control_file, shaded_file, save_path):\n",
    "    \"\"\"Creates a histogram comparing DLI (mol m-2 d-1) for control and shaded data.\"\"\"\n",
    "    # Load data\n",
    "    control_df = pd.read_csv(control_file)\n",
    "    shaded_df = pd.read_csv(shaded_file)\n",
    "\n",
    "    # Calculate the mean DLI for control and shaded\n",
    "    control_dli_mean = control_df['DLI_mol m-2 d-1'].sum()\n",
    "    shaded_dli_mean = shaded_df['DLI_mol m-2 d-1'].sum()\n",
    "\n",
    "    # Data for the histogram\n",
    "    categories = ['Control', 'Shaded']\n",
    "    dli_means = [control_dli_mean, shaded_dli_mean]\n",
    "\n",
    "    # Plot the histogram\n",
    "    fig, ax = plt.subplots(figsize=(8, 6))\n",
    "    ax.bar(categories, dli_means, color=['black', 'white'], alpha=0.7, width=0.5, edgecolor='black', linewidth=1.5)\n",
    "\n",
    "    # Set labels and title\n",
    "    ax.set_ylabel('DLI (mol m-2 d-1)')\n",
    "    ax.set_title('Comparison of DLI (Daily Light Integral)')\n",
    "\n",
    "    # Save the plot\n",
    "    os.makedirs(os.path.dirname(save_path), exist_ok=True)\n",
    "    plt.tight_layout()\n",
    "    plt.savefig(save_path)\n",
    "    plt.close()\n",
    "    print(f\"Saved DLI comparison histogram: {save_path}\")"
   ]
  },
  {
   "cell_type": "markdown",
   "id": "01af2677",
   "metadata": {},
   "source": [
    "## Run Plotting Functions\n",
    "The following cell runs the defined functions to generate and save the plots."
   ]
  },
  {
   "cell_type": "code",
   "execution_count": 20,
   "id": "52acf9cf",
   "metadata": {},
   "outputs": [
    {
     "name": "stdout",
     "output_type": "stream",
     "text": [
      "Saved DLI comparison histogram: plots/dli_comparison_histogram.png\n"
     ]
    }
   ],
   "source": [
    "\n",
    "#plot_monthly_comparison()\n",
    "\n",
    "\n",
    "#plot_daily_comparison()\n",
    "\n",
    "\n",
    "plot_dli_comparison(\n",
    "    'hourly_daily_data/PAR_control_daily.csv',\n",
    "    'hourly_daily_data/PAR_shaded_daily.csv',\n",
    "    'plots/dli_comparison_histogram.png'\n",
    ")\n"
   ]
  }
 ],
 "metadata": {
  "kernelspec": {
   "display_name": "venv",
   "language": "python",
   "name": "python3"
  },
  "language_info": {
   "codemirror_mode": {
    "name": "ipython",
    "version": 3
   },
   "file_extension": ".py",
   "mimetype": "text/x-python",
   "name": "python",
   "nbconvert_exporter": "python",
   "pygments_lexer": "ipython3",
   "version": "3.11.9"
  }
 },
 "nbformat": 4,
 "nbformat_minor": 5
}
